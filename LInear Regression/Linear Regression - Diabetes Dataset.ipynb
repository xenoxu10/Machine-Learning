{
 "cells": [
  {
   "cell_type": "code",
   "execution_count": 1,
   "metadata": {},
   "outputs": [
    {
     "name": "stdout",
     "output_type": "stream",
     "text": [
      "(111, 10)\n",
      "(331, 11)\n"
     ]
    }
   ],
   "source": [
    "import numpy as np\n",
    "from sklearn.linear_model import LinearRegression\n",
    "training_data=np.loadtxt('datasets/0000000000002329_training_diabetes_x_y_train.csv', delimiter=',')\n",
    "testing_data=np.loadtxt('datasets/0000000000002329_test_diabetes_x_test.csv', delimiter=',')\n",
    "print(testing_data.shape)\n",
    "print(training_data.shape)"
   ]
  },
  {
   "cell_type": "code",
   "execution_count": 2,
   "metadata": {},
   "outputs": [
    {
     "name": "stdout",
     "output_type": "stream",
     "text": [
      "(111, 10)\n",
      "(331, 1)\n",
      "(331, 10)\n"
     ]
    }
   ],
   "source": [
    "X_test=testing_data\n",
    "X_train=training_data[:, :10]\n",
    "Y_train=training_data[:, 10:]\n",
    "print(X_test.shape)\n",
    "print(Y_train.shape)\n",
    "print(X_train.shape)"
   ]
  },
  {
   "cell_type": "code",
   "execution_count": 3,
   "metadata": {},
   "outputs": [],
   "source": [
    "model=LinearRegression()\n",
    "model.fit(X_train, Y_train)\n",
    "ans=model.predict(X_test)\n",
    "np.savetxt('predicted_data.csv', ans, delimiter=',')"
   ]
  }
 ],
 "metadata": {
  "kernelspec": {
   "display_name": "Python 3",
   "language": "python",
   "name": "python3"
  },
  "language_info": {
   "codemirror_mode": {
    "name": "ipython",
    "version": 3
   },
   "file_extension": ".py",
   "mimetype": "text/x-python",
   "name": "python",
   "nbconvert_exporter": "python",
   "pygments_lexer": "ipython3",
   "version": "3.7.3"
  }
 },
 "nbformat": 4,
 "nbformat_minor": 2
}
